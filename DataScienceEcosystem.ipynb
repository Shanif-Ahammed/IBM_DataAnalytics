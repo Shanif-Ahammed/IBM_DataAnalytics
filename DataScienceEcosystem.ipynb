{
 "cells": [
  {
   "cell_type": "markdown",
   "id": "6d9e75b1",
   "metadata": {},
   "source": [
    "## Data Science Tools and Ecosystem"
   ]
  },
  {
   "cell_type": "markdown",
   "id": "8f9d18a9",
   "metadata": {},
   "source": [
    "In this notebook, Data Science Tools and Ecosystem are summarized"
   ]
  },
  {
   "cell_type": "markdown",
   "id": "dfead5b9",
   "metadata": {},
   "source": [
    "__Objectives:__\n",
    "* List of Popular Languages for Data Science\n",
    "* List of Libraries for Data Science\n",
    "* List of Tools for Data Science\n",
    "* Code Sample for Python "
   ]
  },
  {
   "cell_type": "markdown",
   "id": "c44d8e8c",
   "metadata": {},
   "source": [
    "Some of the popular languages that Data Scientists use are:\n",
    "1. Python\n",
    "    - About Python\n",
    "2. R Programming\n",
    "    - About R\n",
    "3. SQL\n",
    "    - About SQL"
   ]
  },
  {
   "cell_type": "markdown",
   "id": "a0283342",
   "metadata": {},
   "source": [
    "Some of the Commonly used libaries used by Data Scientists include:\n",
    "  1. In Python\n",
    "        - For data science - Pandas, NumPy, SciPy, & Matplotlib\n",
    "        - For artificial intelligence - TensorFlow, PyTorch, Keras, & Scikit-learn\n",
    "        - For Natural Language Processing (NLP) using the Natural Language Toolkit (NLTK)\n",
    "  2. In R Programming\n",
    "        - GG plot\n",
    "        - Plotly"
   ]
  },
  {
   "cell_type": "markdown",
   "id": "8d4b2250",
   "metadata": {},
   "source": [
    "## Data Science Tools\n",
    "\n",
    "Data management tools are MySQL, PostgreSQL, MongoDB, Apache CouchDB, Apache Cassandra, Hadoop File System, Ceph, and elastic search. Data integration and transformation tools are Apache AirFlow, KubeFlow, Apache Kafka, Apache Nifi, Apache SparkSQL, and NodeRED. Data Visualization tools are Pixie Dust, Hue, Kibana, and Apache Superset. Model deployment tools are Apache PredictionIO, Seldon, Kubernetes, Redhat OpenShift, Mleap, TensorFlow service, TensorFlow lite, and TensorFlow dot JS. Model monitoring tools are ModelDB, Prometheus, IBM AI Fairness 360, IBM Adversarial Robustness 360 Toolbox, and IBM AI Explainability 360. Code asset management tools are Git, GitHub, GitLab, and Bitbucket. And finally, data asset management tools are Apache Atlas, ODPi Egeria, and Kylo.\n",
    "\n",
    "| Tools                | Tools               |\n",
    "|-----:                |----                 |\n",
    "|Data management tools |MySQL and PostgreSQL |\n",
    "|Data integration      |Apache Kafka,SparkSQL NodeRED |\n",
    "|Data Visualization    |Pixie Dust, Hue, Kibana, and Superset| \n",
    "|Model Deployment      |PredictionIO, Seldon, Kubernetes, Redhat OpenShift, Mleap, TensorFlow| \n",
    "|Model Monitering      |ModelDB, Prometheus, IBM AI Fairness 360,| \n",
    "|Code asset Management | Git, GitHub, GitLab, and Bitbucket| \n",
    "|Data Asset Management |Apache Atlas, ODPi Egeria, and Kylo| "
   ]
  },
  {
   "cell_type": "markdown",
   "id": "b8e694de",
   "metadata": {},
   "source": [
    "## Introducing arithmetic expression\n",
    "\n",
    "### Below are a few examples of evaluating arithmetic expressions in Python"
   ]
  },
  {
   "cell_type": "markdown",
   "id": "21b60bc6",
   "metadata": {},
   "source": [
    "This a simple arithmetic expression to mutiply then add integers"
   ]
  },
  {
   "cell_type": "code",
   "execution_count": 4,
   "id": "03932bf8",
   "metadata": {},
   "outputs": [
    {
     "data": {
      "text/plain": [
       "17"
      ]
     },
     "execution_count": 4,
     "metadata": {},
     "output_type": "execute_result"
    }
   ],
   "source": [
    "# This a simple arithmetic expression to mutiply then add integers\n",
    "(3*4)+5"
   ]
  },
  {
   "cell_type": "code",
   "execution_count": 7,
   "id": "43fc37d5",
   "metadata": {},
   "outputs": [
    {
     "name": "stdout",
     "output_type": "stream",
     "text": [
      "3.3333333333333335\n"
     ]
    }
   ],
   "source": [
    "# This will convert 200 minutes to hours by diving by 60\n",
    "\n",
    "def MinutesToHours():\n",
    "    mins=200\n",
    "    hours=mins/60\n",
    "    return hours\n",
    "\n",
    "print(MinutesToHours())"
   ]
  },
  {
   "cell_type": "markdown",
   "id": "dc9e6aee",
   "metadata": {},
   "source": [
    "### Author\n",
    "Shanif Ahammed"
   ]
  }
 ],
 "metadata": {
  "kernelspec": {
   "display_name": "Python 3 (ipykernel)",
   "language": "python",
   "name": "python3"
  },
  "language_info": {
   "codemirror_mode": {
    "name": "ipython",
    "version": 3
   },
   "file_extension": ".py",
   "mimetype": "text/x-python",
   "name": "python",
   "nbconvert_exporter": "python",
   "pygments_lexer": "ipython3",
   "version": "3.10.9"
  }
 },
 "nbformat": 4,
 "nbformat_minor": 5
}
