{
 "cells": [
  {
   "cell_type": "markdown",
   "id": "6044ef03",
   "metadata": {},
   "source": [
    "<center>\n",
    "    <img src=\"https://cf-courses-data.s3.us.cloud-object-storage.appdomain.cloud/IBMDeveloperSkillsNetwork-DS0105EN-SkillsNetwork/labs/Module2/images/SN_web_lightmode.png\" width=\"300\" alt=\"cognitiveclass.ai logo\">\n",
    "</center>\n"
   ]
  },
  {
   "cell_type": "markdown",
   "id": "251a686d",
   "metadata": {},
   "source": [
    "#### Add your code below following the instructions given in the course\n"
   ]
  },
  {
   "cell_type": "markdown",
   "id": "6d9e75b1",
   "metadata": {},
   "source": [
    "## Data Science Tools and Ecosystem"
   ]
  },
  {
   "cell_type": "markdown",
   "id": "eaf5e957",
   "metadata": {},
   "source": [
    "In this notebook, Data Science Tools and Ecosystem are summarized"
   ]
  },
  {
   "cell_type": "markdown",
   "id": "718c3d0a",
   "metadata": {},
   "source": [
    "__Objectives:__\n",
    "* List of Popular Languages for Data Science\n",
    "* List of Libraries for Data Science\n",
    "* List of Tools for Data Science\n",
    "* Code Sample for Python "
   ]
  },
  {
   "cell_type": "markdown",
   "id": "3c90e8df",
   "metadata": {},
   "source": [
    "Some of the popular languages that Data Scientists use are:\n",
    "1. Python\n",
    "    - Python is a programming language widely used by Data Scientists. Python has in-built mathematical libraries and functions, making it easier to calculate mathematical problems and to perform data analysis.\n",
    "2. R Programming\n",
    "    - R provides objects, operators and functions that allow users to explore, model and visualize data. R is used for data analysis. R in data science is used to handle, store and analyze data. It can be used for data analysis and statistical modeling. R is an environment for statistical analysis.\n",
    "3. SQL\n",
    "    - SQL (or Structured Query Language) is a powerful programming language that is used for communicating with and extracting various data types from databases. A working knowledge of databases and SQL is necessary to advance as a data scientist or a machine learning specialist."
   ]
  },
  {
   "cell_type": "markdown",
   "id": "86c45b67",
   "metadata": {},
   "source": [
    "Some of the Commonly used libaries used by Data Scientists include:\n",
    "  1. In Python\n",
    "        - For data science - Pandas, NumPy, SciPy, & Matplotlib\n",
    "        - For artificial intelligence - TensorFlow, PyTorch, Keras, & Scikit-learn\n",
    "        - For Natural Language Processing (NLP) using the Natural Language Toolkit (NLTK)\n",
    "  2. In R Programming\n",
    "        - GG plot\n",
    "        - Plotly"
   ]
  },
  {
   "cell_type": "markdown",
   "id": "492b9b10",
   "metadata": {},
   "source": [
    "## Data Science Tools\n",
    "\n",
    "| Data Science Tools |\n",
    "|-----:              |\n",
    "|Jupyter Labs        |\n",
    "|R Studio            |\n",
    "|Apache Zeppelin     |\n"
   ]
  },
  {
   "cell_type": "markdown",
   "id": "8f2a3aa6",
   "metadata": {},
   "source": [
    "## Introducing arithmetic expression Examples\n",
    "\n",
    "### Below are a few examples of evaluating arithmetic expressions in Python"
   ]
  },
  {
   "cell_type": "code",
   "execution_count": 4,
   "id": "6f85559b",
   "metadata": {},
   "outputs": [
    {
     "data": {
      "text/plain": [
       "17"
      ]
     },
     "execution_count": 4,
     "metadata": {},
     "output_type": "execute_result"
    }
   ],
   "source": [
    "# This a simple arithmetic expression to mutiply then add integers\n",
    "(3*4)+5"
   ]
  },
  {
   "cell_type": "code",
   "execution_count": 4,
   "id": "6f8cc9fe",
   "metadata": {},
   "outputs": [
    {
     "name": "stdout",
     "output_type": "stream",
     "text": [
      "3.3333333333333335\n"
     ]
    }
   ],
   "source": [
    "# This will convert 200 minutes to hours by diving by 60\n",
    "\n",
    "def MinutesToHours():\n",
    "    mins=200\n",
    "    hours=mins/60\n",
    "    return (hours)\n",
    "\n",
    "print(MinutesToHours())"
   ]
  },
  {
   "cell_type": "markdown",
   "id": "491c3d4a",
   "metadata": {},
   "source": [
    "### Author\n",
    "Shanif Ahammed"
   ]
  }
 ],
 "metadata": {
  "kernelspec": {
   "display_name": "Python 3 (ipykernel)",
   "language": "python",
   "name": "python3"
  },
  "language_info": {
   "codemirror_mode": {
    "name": "ipython",
    "version": 3
   },
   "file_extension": ".py",
   "mimetype": "text/x-python",
   "name": "python",
   "nbconvert_exporter": "python",
   "pygments_lexer": "ipython3",
   "version": "3.10.9"
  }
 },
 "nbformat": 4,
 "nbformat_minor": 5
}
